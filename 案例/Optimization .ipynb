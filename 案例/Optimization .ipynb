{
 "cells": [
  {
   "cell_type": "code",
   "execution_count": 1,
   "metadata": {},
   "outputs": [],
   "source": [
    "# Optimizer:\n",
    "#   ##  tf.train.GradientDescentOptimizer\n",
    "#   ##  tf.train.AdadeltaOptimizer\n",
    "#     tf.train.AdagradDAOptimizer\n",
    "#   ##  tf.train.MomentumOptimizer\n",
    "#   ##  tf.train.AdamOptimizer\n",
    "#     tf.train.FtrlOptimizer\n",
    "#     tf.train.ProximalAdagradOptimizer\n",
    "#     tf.train.ProximalGradientDescentOptimizer\n",
    "#   ##    tf.train.RMSPropOptimizer"
   ]
  },
  {
   "cell_type": "code",
   "execution_count": 2,
   "metadata": {},
   "outputs": [],
   "source": [
    "# Stochastic Gradient Descent\n",
    "# Momentum Gradient Descent\n",
    "# Nesterov Accelerated Gradient\n",
    "# Adagrad  适用于稀疏的数据集\n",
    "# RMSprop    \n",
    "# Adadelta    --no need for learning rate\n",
    "# Adam "
   ]
  },
  {
   "cell_type": "code",
   "execution_count": 3,
   "metadata": {},
   "outputs": [],
   "source": [
    "import tensorflow as tf\n",
    "from tensorflow.examples.tutorials.mnist import input_data"
   ]
  },
  {
   "cell_type": "code",
   "execution_count": 4,
   "metadata": {},
   "outputs": [
    {
     "name": "stdout",
     "output_type": "stream",
     "text": [
      "Extracting MNIST_data/train-images-idx3-ubyte.gz\n",
      "Extracting MNIST_data/train-labels-idx1-ubyte.gz\n",
      "Extracting MNIST_data/t10k-images-idx3-ubyte.gz\n",
      "Extracting MNIST_data/t10k-labels-idx1-ubyte.gz\n"
     ]
    }
   ],
   "source": [
    "#载入数据\n",
    "mnist=input_data.read_data_sets(\"MNIST_data\",one_hot=True)"
   ]
  },
  {
   "cell_type": "code",
   "execution_count": 12,
   "metadata": {},
   "outputs": [
    {
     "name": "stdout",
     "output_type": "stream",
     "text": [
      "Iteration 0, Testing accuracy 0.631\n",
      "Iteration 1, Testing accuracy 0.651\n",
      "Iteration 2, Testing accuracy 0.6615\n",
      "Iteration 3, Testing accuracy 0.6722\n",
      "Iteration 4, Testing accuracy 0.6875\n",
      "Iteration 5, Testing accuracy 0.7035\n",
      "Iteration 6, Testing accuracy 0.717\n",
      "Iteration 7, Testing accuracy 0.7237\n",
      "Iteration 8, Testing accuracy 0.7305\n",
      "Iteration 9, Testing accuracy 0.7326\n",
      "Iteration 10, Testing accuracy 0.7368\n",
      "Iteration 11, Testing accuracy 0.7415\n",
      "Iteration 12, Testing accuracy 0.7441\n",
      "Iteration 13, Testing accuracy 0.748\n",
      "Iteration 14, Testing accuracy 0.7502\n",
      "Iteration 15, Testing accuracy 0.7541\n",
      "Iteration 16, Testing accuracy 0.7581\n",
      "Iteration 17, Testing accuracy 0.7609\n",
      "Iteration 18, Testing accuracy 0.7637\n",
      "Iteration 19, Testing accuracy 0.766\n",
      "Iteration 20, Testing accuracy 0.7688\n"
     ]
    }
   ],
   "source": [
    "#每个批次的大小\n",
    "batch_size=100\n",
    "#计算一共多少批次\n",
    "n_batch=mnist.train.num_examples//batch_size\n",
    "#定义两个placeholder\n",
    "x=tf.placeholder(tf.float32,[None,784])\n",
    "y=tf.placeholder(tf.float32,[None,10])\n",
    "\n",
    "#创建一个简答的神经网络\n",
    "W=tf.Variable(tf.zeros([784,10]))\n",
    "b=tf.Variable(tf.zeros([10]))\n",
    "prediction=tf.nn.softmax(tf.matmul(x,W)+b)\n",
    "\n",
    "\n",
    "#定义二次代价函数\n",
    "# loss=tf.reduce_mean(tf.square(y-prediction))\n",
    "loss=tf.reduce_mean(tf.nn.softmax_cross_entropy_with_logits(labels=y,logits=prediction))\n",
    "#使用梯度下降法\n",
    "# train_step=tf.train.GradientDescentOptimizer(0.2).minimize(loss)\n",
    "\n",
    "train_step=tf.train.AdadeltaOptimizer(1e-2).minimize(loss)\n",
    "\n",
    "\n",
    "\n",
    "\n",
    "\n",
    "init=tf.global_variables_initializer()\n",
    "\n",
    "#结果存放在一个布尔型列表中\n",
    "correct_prediction=tf.equal(tf.argmax(y,1),tf.argmax(prediction,1))\n",
    "     #argmax返回一维张量中最大的值所在的位置 \n",
    "#准确率\n",
    "accuracy=tf.reduce_mean(tf.cast(correct_prediction,tf.float32))\n",
    "\n",
    "with tf.Session() as sess:\n",
    "    sess.run(init)\n",
    "    for epoch in range(21):\n",
    "        for batch in range(n_batch):\n",
    "            batch_xs,batch_ys=mnist.train.next_batch(batch_size)\n",
    "            sess.run(train_step,feed_dict={x:batch_xs,y:batch_ys})\n",
    "            \n",
    "        acc=sess.run(accuracy,feed_dict={x:mnist.test.images,\n",
    "                                         y:mnist.test.labels})\n",
    "        print(\"Iteration \"+str(epoch)+\", Testing accuracy \"+str(acc))"
   ]
  },
  {
   "cell_type": "code",
   "execution_count": null,
   "metadata": {},
   "outputs": [],
   "source": []
  }
 ],
 "metadata": {
  "kernelspec": {
   "display_name": "Python 3",
   "language": "python",
   "name": "python3"
  },
  "language_info": {
   "codemirror_mode": {
    "name": "ipython",
    "version": 3
   },
   "file_extension": ".py",
   "mimetype": "text/x-python",
   "name": "python",
   "nbconvert_exporter": "python",
   "pygments_lexer": "ipython3",
   "version": "3.6.5"
  }
 },
 "nbformat": 4,
 "nbformat_minor": 2
}
