{
 "cells": [
  {
   "cell_type": "code",
   "execution_count": 9,
   "metadata": {},
   "outputs": [],
   "source": [
    "# 传统神经网络存在的问题:\n",
    "#     权值太多,计算量太大\n",
    "#     权值太多,需要大量样本进行训练(过拟合或欠拟合) \n",
    "# NN:  fully connected neural net\n",
    "# CNN: locally connected neural net"
   ]
  },
  {
   "cell_type": "code",
   "execution_count": 10,
   "metadata": {},
   "outputs": [],
   "source": [
    "# CNN:\n",
    "#     池化 max-pooling  mean-pooling random-pooling\n",
    "#     卷积操作: \n",
    "#         same padding \n",
    "#         可能给平面外部补0 卷积窗口采样后得到一个跟原本平面大小相同的平面\n",
    "#         valid padding\n",
    "#         不会超出平面外部 卷积窗口采样后得到一个比原来平面小的平面\n"
   ]
  },
  {
   "cell_type": "code",
   "execution_count": 15,
   "metadata": {},
   "outputs": [],
   "source": [
    "import tensorflow as tf\n",
    "from tensorflow.examples.tutorials.mnist import input_data"
   ]
  },
  {
   "cell_type": "code",
   "execution_count": 16,
   "metadata": {},
   "outputs": [
    {
     "name": "stdout",
     "output_type": "stream",
     "text": [
      "Extracting MNIST_data/train-images-idx3-ubyte.gz\n",
      "Extracting MNIST_data/train-labels-idx1-ubyte.gz\n",
      "Extracting MNIST_data/t10k-images-idx3-ubyte.gz\n",
      "Extracting MNIST_data/t10k-labels-idx1-ubyte.gz\n"
     ]
    }
   ],
   "source": [
    "mnist=input_data.read_data_sets(\"MNIST_data\",one_hot=True)"
   ]
  },
  {
   "cell_type": "code",
   "execution_count": null,
   "metadata": {},
   "outputs": [
    {
     "name": "stdout",
     "output_type": "stream",
     "text": [
      "Iteration 0, Testing accuracy 0.9545\n"
     ]
    }
   ],
   "source": [
    "#每个批次的大小\n",
    "batch_size=100\n",
    "#计算一共多少批次\n",
    "n_batch=mnist.train.num_examples//batch_size\n",
    "\n",
    "def weight_variable(shape):\n",
    "    initial=tf.truncated_normal(shape,stddev=0.1)\n",
    "    return tf.Variable(initial)\n",
    "\n",
    "def bias_variable(shape):\n",
    "    initial=tf.constant(0.1,shape=shape)\n",
    "    return tf.Variable(initial)\n",
    "\n",
    "#卷积层\n",
    "def conv2d(x,W):\n",
    "    return tf.nn.conv2d(x,W,strides=[1,1,1,1],padding='SAME')\n",
    "#池化层\n",
    "def max_pool_2x2(x):\n",
    "#     strides=[1,_,1,_] ksize=[1,_,_1]\n",
    "    return tf.nn.max_pool(x,ksize=[1,2,2,1],strides=[1,2,2,1],padding='SAME')\n",
    "\n",
    "x=tf.placeholder(tf.float32,[None,784])\n",
    "y=tf.placeholder(tf.float32,[None,10])\n",
    "\n",
    "#改变x的格式转为4D向量[batch,in_height,in_width,in_channel]\n",
    "x_image=tf.reshape(x,[-1,28,28,1])\n",
    "\n",
    "#初始化第一个卷积层的权值和偏置\n",
    "W_conv1=weight_variable([5,5,1,32])#5x5的采样窗口,32个卷积核从1个平面抽取特征\n",
    "b_conv1=bias_variable([32])\n",
    "#把x_image和权值向量进行卷积,再加上偏置值,然后应用于relu激活函数\n",
    "h_conv1=tf.nn.relu(conv2d(x_image,W_conv1)+b_conv1)\n",
    "h_pool1=max_pool_2x2(h_conv1)\n",
    "\n",
    "#初始化第二个卷积层\n",
    "W_conv2=weight_variable([5,5,32,64])#5x5的采样窗口,32个卷积核从1个平面抽取特征\n",
    "b_conv2=bias_variable([64])\n",
    "#把h_pool1和权值向量进行卷积,再加上偏置值,然后应用于relu激活函数\n",
    "h_conv2=tf.nn.relu(conv2d(h_pool1,W_conv2)+b_conv2)\n",
    "h_pool2=max_pool_2x2(h_conv2)\n",
    "\n",
    "# 28x28的图片第一次卷积后还是28x28,第一次池化变为14x14\n",
    "# 第二次卷积后14x14,第二次池化后为7x7\n",
    "# 进行上面操作后得到64张7x7的平面\n",
    "\n",
    "#初始化第一个全连接层的权值\n",
    "W_fcl=weight_variable([7*7*64,1024])#上一层7x7x64个神经元,全连接层有1024个神经元\n",
    "b_fcl=bias_variable([1024])\n",
    "\n",
    "#把池化层2的输出扁平化为一维\n",
    "h_pool2_flat=tf.reshape(h_pool2,[-1,7*7*64])\n",
    "#求第一个全连接层的输出\n",
    "h_fcl=tf.nn.relu(tf.matmul(h_pool2_flat,W_fcl)+b_fcl)\n",
    "\n",
    "#keep_prob用来表示神经元的输出概率\n",
    "keep_prob=tf.placeholder(tf.float32)\n",
    "h_fcl_drop=tf.nn.dropout(h_fcl,keep_prob)\n",
    "\n",
    "#初始化第二个全连接层\n",
    "W_fc2=weight_variable([1024,10])\n",
    "b_fc2=bias_variable([10])\n",
    "#计算输出\n",
    "prediction=tf.nn.softmax(tf.matmul(h_fcl_drop,W_fc2)+b_fc2)\n",
    "\n",
    "#交叉熵代价函数\n",
    "cross_entropy=tf.reduce_mean(tf.nn.softmax_cross_entropy_with_logits(labels=y,logits=prediction))\n",
    "#使用AdamOptimizer进行优化\n",
    "train_step=tf.train.AdamOptimizer(1e-4).minimize(cross_entropy)\n",
    "#结果存放在一个布尔列表中\n",
    "correct_prediction=tf.equal(tf.argmax(y,1),tf.argmax(prediction,1))\n",
    "#准确率\n",
    "accuracy=tf.reduce_mean(tf.cast(correct_prediction,tf.float32))\n",
    "\n",
    "with tf.Session() as sess:\n",
    "    sess.run(tf.global_variables_initializer())\n",
    "    for epoch in range(21):\n",
    "        for batch in range(n_batch):\n",
    "            batch_xs,batch_ys=mnist.train.next_batch(batch_size)\n",
    "            sess.run(train_step,feed_dict={x:batch_xs,y:batch_ys,keep_prob:0.7})\n",
    "        \n",
    "        acc=sess.run(accuracy,feed_dict={x:mnist.test.images,y:mnist.test.labels,keep_prob:1.0})\n",
    "        print(\"Iteration \"+str(epoch)+\", Testing accuracy \"+str(acc))\n",
    "\n",
    "\n",
    "\n"
   ]
  },
  {
   "cell_type": "code",
   "execution_count": null,
   "metadata": {},
   "outputs": [],
   "source": []
  },
  {
   "cell_type": "code",
   "execution_count": null,
   "metadata": {},
   "outputs": [],
   "source": []
  },
  {
   "cell_type": "code",
   "execution_count": null,
   "metadata": {},
   "outputs": [],
   "source": []
  },
  {
   "cell_type": "code",
   "execution_count": null,
   "metadata": {},
   "outputs": [],
   "source": []
  }
 ],
 "metadata": {
  "kernelspec": {
   "display_name": "Python 3",
   "language": "python",
   "name": "python3"
  },
  "language_info": {
   "codemirror_mode": {
    "name": "ipython",
    "version": 3
   },
   "file_extension": ".py",
   "mimetype": "text/x-python",
   "name": "python",
   "nbconvert_exporter": "python",
   "pygments_lexer": "ipython3",
   "version": "3.6.5"
  }
 },
 "nbformat": 4,
 "nbformat_minor": 2
}
