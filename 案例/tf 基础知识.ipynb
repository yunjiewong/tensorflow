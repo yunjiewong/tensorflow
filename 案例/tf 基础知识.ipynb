{
 "cells": [
  {
   "cell_type": "code",
   "execution_count": 24,
   "metadata": {},
   "outputs": [],
   "source": [
    "import tensorflow as tf\n",
    "import numpy as np"
   ]
  },
  {
   "cell_type": "code",
   "execution_count": 25,
   "metadata": {},
   "outputs": [
    {
     "name": "stdout",
     "output_type": "stream",
     "text": [
      "[-2 -1]\n",
      "[-1  1]\n"
     ]
    }
   ],
   "source": [
    "x=tf.Variable([1,2])\n",
    "a=tf.constant([3,3])\n",
    "#subtraction\n",
    "sub=tf.subtract(x,a)\n",
    "# addition\n",
    "add=tf.add(x,sub)\n",
    "\n",
    "##initial variables\n",
    "init=tf.global_variables_initializer()\n",
    "\n",
    "with tf.Session() as sess:\n",
    "    sess.run(init)\n",
    "    print(sess.run(sub))\n",
    "    print(sess.run(add))\n"
   ]
  },
  {
   "cell_type": "code",
   "execution_count": 26,
   "metadata": {},
   "outputs": [
    {
     "name": "stdout",
     "output_type": "stream",
     "text": [
      "0\n",
      "1\n",
      "2\n",
      "3\n",
      "4\n",
      "5\n"
     ]
    }
   ],
   "source": [
    "state=tf.Variable(0,name='counter')\n",
    "#add 1 to new_value\n",
    "new_value=tf.add(state,1)\n",
    "##assignment\n",
    "update=tf.assign(state,new_value)\n",
    "\n",
    "init=tf.global_variables_initializer()\n",
    "\n",
    "with tf.Session() as sess:\n",
    "    sess.run(init)\n",
    "    print(sess.run(state))\n",
    "    for _ in range(5):\n",
    "        sess.run(update)\n",
    "        print(sess.run(state))"
   ]
  },
  {
   "cell_type": "code",
   "execution_count": 27,
   "metadata": {},
   "outputs": [
    {
     "name": "stdout",
     "output_type": "stream",
     "text": [
      "Tensor(\"mul_6:0\", shape=(), dtype=float32)\n",
      "[21.0, 7.0]\n"
     ]
    }
   ],
   "source": [
    "# fetch \n",
    "input1=tf.constant(3.0)\n",
    "input2=tf.constant(2.0)\n",
    "input3=tf.constant(5.0)\n",
    "add=input2+input3  ##tf.add(_,_)\n",
    "mul=input1*add     ##tf.muliply\n",
    "print(mul)\n",
    "\n",
    "with tf.Session()as sess:\n",
    "    result=sess.run([mul,add])\n",
    "    print(result)"
   ]
  },
  {
   "cell_type": "code",
   "execution_count": 28,
   "metadata": {},
   "outputs": [
    {
     "name": "stdout",
     "output_type": "stream",
     "text": [
      "[ 18.]\n"
     ]
    }
   ],
   "source": [
    "# feed\n",
    "input1=tf.placeholder(tf.float32)\n",
    "input2=tf.placeholder(tf.float32)\n",
    "output=input1*input2\n",
    "\n",
    "with tf.Session() as sess:\n",
    "    r=sess.run(output,feed_dict={input1:[9.0],input2:[2.]})\n",
    "    print(r)"
   ]
  },
  {
   "cell_type": "code",
   "execution_count": 42,
   "metadata": {},
   "outputs": [
    {
     "name": "stdout",
     "output_type": "stream",
     "text": [
      "0 [0.29834878, 0.67050529]\n",
      "20 [0.089878693, 0.20477097]\n",
      "40 [0.094646268, 0.20252305]\n",
      "60 [0.097168237, 0.20133452]\n",
      "80 [0.098502181, 0.20070589]\n",
      "100 [0.099207759, 0.20037335]\n",
      "120 [0.099580958, 0.20019747]\n",
      "140 [0.099778369, 0.20010445]\n",
      "160 [0.099882774, 0.20005524]\n",
      "180 [0.09993799, 0.20002922]\n",
      "200 [0.099967219, 0.20001546]\n"
     ]
    }
   ],
   "source": [
    "# using numpy to create 100 random numbers\n",
    "x_data=np.random.rand(100)\n",
    "y_data=x_data*.1+.2\n",
    "\n",
    "b=tf.Variable(1.1)\n",
    "k=tf.Variable(0.5)\n",
    "y=k*x_data+b\n",
    "\n",
    "#二次代价函数\n",
    "loss=tf.reduce_mean(tf.square(y_data-y))\n",
    "#定义一个梯度下降法来进行训练的优化器                   \n",
    "optimizer = tf.train.GradientDescentOptimizer(0.2)                 \n",
    "#最小化代价函数\n",
    "train=optimizer.minimize(loss)\n",
    "\n",
    "init=tf.global_variables_initializer()\n",
    "                    \n",
    "with tf.Session() as sess:\n",
    "        sess.run(init)\n",
    "        for step in range(201):\n",
    "            sess.run(train)\n",
    "            if step%20==0:\n",
    "                    print(step,sess.run([k,b]))                    "
   ]
  },
  {
   "cell_type": "code",
   "execution_count": 43,
   "metadata": {},
   "outputs": [],
   "source": [
    "# quadratic cost  --输出层神经元是线性函数\n",
    "# cross-entropy   --输出层神经元是S型函数\n",
    "# log-likelihood cost 对数释然代价函数 --输出层神经元是softmax\n",
    "# tf.nn.sigmoid_cross_entropy_with_logits(_,_)\n",
    "# tf.nn.softmax_corss_entropy_with_logits(_,_)"
   ]
  },
  {
   "cell_type": "code",
   "execution_count": null,
   "metadata": {},
   "outputs": [],
   "source": []
  },
  {
   "cell_type": "code",
   "execution_count": null,
   "metadata": {},
   "outputs": [],
   "source": []
  },
  {
   "cell_type": "code",
   "execution_count": null,
   "metadata": {},
   "outputs": [],
   "source": []
  },
  {
   "cell_type": "code",
   "execution_count": null,
   "metadata": {},
   "outputs": [],
   "source": [
    "\n"
   ]
  },
  {
   "cell_type": "code",
   "execution_count": null,
   "metadata": {},
   "outputs": [],
   "source": []
  }
 ],
 "metadata": {
  "kernelspec": {
   "display_name": "Python 3",
   "language": "python",
   "name": "python3"
  },
  "language_info": {
   "codemirror_mode": {
    "name": "ipython",
    "version": 3
   },
   "file_extension": ".py",
   "mimetype": "text/x-python",
   "name": "python",
   "nbconvert_exporter": "python",
   "pygments_lexer": "ipython3",
   "version": "3.6.5"
  }
 },
 "nbformat": 4,
 "nbformat_minor": 2
}
